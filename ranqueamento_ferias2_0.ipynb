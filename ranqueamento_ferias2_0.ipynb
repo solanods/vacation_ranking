{
  "cells": [
    {
      "cell_type": "markdown",
      "metadata": {
        "id": "view-in-github",
        "colab_type": "text"
      },
      "source": [
        "<a href=\"https://colab.research.google.com/github/solanods/vacation_ranking/blob/main/ranqueamento_ferias2_0.ipynb\" target=\"_parent\"><img src=\"https://colab.research.google.com/assets/colab-badge.svg\" alt=\"Open In Colab\"/></a>"
      ]
    },
    {
      "cell_type": "markdown",
      "metadata": {
        "id": "56DLSoGKVFRV"
      },
      "source": [
        "#RANQUEAMENTO DE GOZO DE FÉRIAS EM MÊS NOBRE"
      ]
    },
    {
      "cell_type": "markdown",
      "metadata": {
        "id": "qgpEDLrnQ38D"
      },
      "source": [
        "Sistema de ranqueamento para gozo de férias em meses nobres: dez, jan, fev, mar.\n",
        "\n",
        "Base de dados contendo os dados de férias dos operadores\n",
        "\n",
        "Manter atualizada com base nos dados de férias dos últimos quatro anos.\n",
        "\n",
        "LINK PARA DOWNLOAD DOS DADOS NO TOTVS\n",
        "\n",
        "https://portalrm.trensurb.gov.br/Corpore.Net/Main.aspx?ActionID=BisCuboActionWeb&SelectedMenuIDKey=CubosNet&ShowMode=0&DetailIndex=-1&TransactionID=-1&KeyValues=1;149\n",
        "\n",
        "O período para ranqueamento anual compreende as férias dos últimos quatro anos.\n",
        "\n",
        "Exemplo 01/04/2019 a 31/03/2022  para ranqueamento 2023/2024\n",
        "\n",
        "Exemplo 01/04/2020 a 31/03/2023  para ranqueamento 2024/2025\n",
        "\n",
        "Ao acessar o link, alterar os parâmetros conforme acima.\n",
        "\n",
        "OBS. É necessário salvar o arquivo em formato planilha do excel \".xlsx\" antes do carregamento no Google Colab\n",
        "\n"
      ]
    },
    {
      "cell_type": "code",
      "execution_count": 25,
      "metadata": {
        "colab": {
          "base_uri": "https://localhost:8080/"
        },
        "id": "NR7cLc4bRVCC",
        "outputId": "c0d95d4c-37b0-44cb-9250-dcb5459e3421"
      },
      "outputs": [
        {
          "output_type": "stream",
          "name": "stdout",
          "text": [
            "Drive already mounted at /content/drive; to attempt to forcibly remount, call drive.mount(\"/content/drive\", force_remount=True).\n"
          ]
        }
      ],
      "source": [
        "# Imports\n",
        "import pandas as pd\n",
        "import numpy as np\n",
        "from datetime import date\n",
        "from google.colab import drive\n",
        "drive.mount('/content/drive')\n",
        "import warnings\n",
        "warnings.filterwarnings(\"ignore\")\n",
        "\n",
        "# Colunas alvo: RE, NOME, INICIO DAS FERIAS, DIAS DE FERIAS, DIAS DE ABONO\n",
        "df = pd.read_excel('/content/FERIASMARCADASDOSEMPREGADOSPORTAL.xlsx',\n",
        "                   usecols=[0,1,4,6,7])\n",
        "\n",
        "# Preencher os valores ausentes\n",
        "df = df.fillna(method='ffill')\n",
        "\n",
        "# Criar mascara para eliminar as entradas que contenham a palavra Total no campo NOME\n",
        "substring = 'Total'\n",
        "mascara = df['NOME'].str.contains(substring)==False\n",
        "df = df[mascara]\n",
        "\n",
        "# Remover as linha duplicadas\n",
        "df = df.drop_duplicates()\n",
        "\n",
        "# Converter colunas RE e DIAS DE FÉRIAS para inteiro\n",
        "df['RE'] = df['RE'].astype(int)\n",
        "df['DIAS DE FÉRIAS'] = df['DIAS DE FÉRIAS'].astype(int)\n",
        "df['DIAS DE ABONO'] = df['DIAS DE ABONO'].astype(int)\n",
        "\n",
        "# Cria campo MES extraindo o mes\n",
        "df['MES'] = df['INICIO DAS FERIAS'].dt.month\n",
        "\n",
        "# Cria o campo ANO no tipo int\n",
        "df['ANO'] = df['INICIO DAS FERIAS'].dt.year\n",
        "df['ANO'] = df['ANO'].astype(int)\n",
        "\n",
        "# Dividir os dados ateriores a 2023 para aplicação dos pesos antigos\n",
        "df1 = df[df['INICIO DAS FERIAS'] <= pd.to_datetime('2022-12-31')]\n",
        "df2 = df[df['INICIO DAS FERIAS'] >= pd.to_datetime('2023-01-01')]\n",
        "\n",
        "# Criar um classificador para os períodos anteriores a 2023\n",
        "condicao1 = [df1['MES'] == 1,\n",
        "            df1['MES'] == 2,\n",
        "            df1['MES'] == 12]\n",
        "\n",
        "classe_mes = ['NOBRE', 'NOBRE', 'NOBRE']\n",
        "\n",
        "df1['CLASSE MES'] = np.select(condicao1, classe_mes, 'NAO NOBRE')\n",
        "\n",
        "# Criar pesos para os meses anteriores a 2023\n",
        "peso_mes1 = [2, 2, 2]\n",
        "df1['PESO'] = np.select(condicao1, peso_mes1, 1)\n",
        "\n",
        "# Criar um classificador para os períodos a partir de 2023\n",
        "condicao2 = [df2['MES'] == 1,\n",
        "            df2['MES'] == 2,\n",
        "            df2['MES'] == 3,\n",
        "            df2['MES'] == 12]\n",
        "\n",
        "classe_mes = ['NOBRE', 'NOBRE', 'NOBRE', 'NOBRE']\n",
        "df2['CLASSE MES'] = np.select(condicao2, classe_mes, 'NAO NOBRE')\n",
        "\n",
        "# Criar pesos para os meses a partir de 2023\n",
        "peso_mes2 = [3, 3, 2, 2]\n",
        "df2['PESO'] = np.select(condicao2, peso_mes2, 1)\n",
        "\n",
        "# Juntar novamente os dados\n",
        "dados = pd.concat([df1, df2])\n",
        "\n",
        "# Ordenacao\n",
        "dados = dados.sort_values(by=['RE', 'INICIO DAS FERIAS'], ignore_index=True)\n",
        "\n",
        "# Calculo\n",
        "dados['SUBTOTAL'] = (dados['DIAS DE FÉRIAS'] + dados['DIAS DE ABONO']) * dados['PESO']\n",
        "\n",
        "# Criar a coluna de dias nobres\n",
        "condicional = [dados['CLASSE MES'] == 'NOBRE',\n",
        "               dados['CLASSE MES'] == 'NAO NOBRE']\n",
        "\n",
        "subtotal_nobre = [dados['SUBTOTAL'], 0]\n",
        "\n",
        "dados['DIAS NOBRES'] = np.select(condicional, subtotal_nobre, 0)\n",
        "\n",
        "# Soma agrupada\n",
        "pontuacao = dados.groupby([\"RE\"])[\"SUBTOTAL\"].agg(\"sum\")\n",
        "\n",
        "# Soma dos dia de meses nobres\n",
        "dias_nobre = dados.groupby([\"RE\"])[\"DIAS NOBRES\"].agg(\"sum\")\n",
        "\n",
        "# Criar DataFrame\n",
        "RE = []\n",
        "for i in set(dados['RE']):\n",
        "  RE.append(i)\n",
        "RE.sort()\n",
        "\n",
        "PONTUACAO = []\n",
        "for i in pontuacao:\n",
        "  PONTUACAO.append(int(i))\n",
        "\n",
        "DIAS_NOBRES = []\n",
        "for i in dias_nobre:\n",
        "  DIAS_NOBRES.append(int(i))\n",
        "\n",
        "ranking = pd.DataFrame({\"RE\": RE,\n",
        "                       \"PONTUACAO\": PONTUACAO,\n",
        "                       \"DIAS NOBRES\": DIAS_NOBRES})\n",
        "\n",
        "resultado = ranking.sort_values(by=['PONTUACAO', 'DIAS NOBRES', 'RE'],\n",
        "                                ignore_index=True)\n",
        "\n",
        "# Enviar para o gdrive\n",
        "now = date.today()\n",
        "dados.to_excel(f'/content/drive/MyDrive/FERIAS/cálculos_ranking{now}.xlsx',\n",
        "               sheet_name='DADOS_RANQUEAMENTO', index=False)\n",
        "\n",
        "resultado.to_excel(f'/content/drive/MyDrive/FERIAS/classificacao_ranking{now}.xlsx',\n",
        "                   sheet_name='DIAS_NOBRES', index=True)"
      ]
    }
  ],
  "metadata": {
    "colab": {
      "provenance": [],
      "authorship_tag": "ABX9TyONpKxGPdO/77A+szqvc6UW",
      "include_colab_link": true
    },
    "kernelspec": {
      "display_name": "Python 3",
      "name": "python3"
    },
    "language_info": {
      "name": "python"
    }
  },
  "nbformat": 4,
  "nbformat_minor": 0
}